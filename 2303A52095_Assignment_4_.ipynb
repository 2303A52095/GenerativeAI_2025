{
  "nbformat": 4,
  "nbformat_minor": 0,
  "metadata": {
    "colab": {
      "provenance": [],
      "include_colab_link": true
    },
    "kernelspec": {
      "name": "python3",
      "display_name": "Python 3"
    },
    "language_info": {
      "name": "python"
    }
  },
  "cells": [
    {
      "cell_type": "markdown",
      "metadata": {
        "id": "view-in-github",
        "colab_type": "text"
      },
      "source": [
        "<a href=\"https://colab.research.google.com/github/2303A52095/GenerativeAI_2025/blob/main/2303A52095_Assignment_4_.ipynb\" target=\"_parent\"><img src=\"https://colab.research.google.com/assets/colab-badge.svg\" alt=\"Open In Colab\"/></a>"
      ]
    },
    {
      "cell_type": "markdown",
      "source": [
        "#Question 1"
      ],
      "metadata": {
        "id": "zjJiMZW05u-d"
      }
    },
    {
      "cell_type": "code",
      "source": [
        "import numpy as np\n",
        "\n",
        "# Training Data\n",
        "train_X = np.array([\n",
        "    [0.1, 0.2, 0.3],\n",
        "    [0.2, 0.3, 0.4],\n",
        "    [0.3, 0.4, 0.5],\n",
        "    [0.5, 0.6, 0.7],\n",
        "    [0.1, 0.3, 0.5],\n",
        "    [0.2, 0.4, 0.6],\n",
        "    [0.3, 0.5, 0.7],\n",
        "    [0.4, 0.6, 0.8],\n",
        "    [0.5, 0.7, 0.1]\n",
        "])\n",
        "train_y = np.array([0.14, 0.20, 0.26, 0.38, 0.22, 0.28, 0.34, 0.40, 0.22])\n",
        "\n",
        "# Test Data\n",
        "test_X = np.array([\n",
        "    [0.6, 0.7, 0.8],\n",
        "    [0.7, 0.8, 0.9]\n",
        "])\n",
        "test_y = np.array([0.44, 0.50])\n",
        "\n",
        "# Initialize weights and bias\n",
        "weights = np.random.rand(3)\n",
        "bias = np.random.rand()\n",
        "\n",
        "# Hyperparameters\n",
        "learning_rate = 0.01\n",
        "epochs = 1000\n",
        "\n",
        "# Training the model using gradient descent\n",
        "for epoch in range(epochs):\n",
        "    predictions = np.dot(train_X, weights) + bias\n",
        "    errors = predictions - train_y\n",
        "\n",
        "    # Compute gradients\n",
        "    weight_gradients = (2 / len(train_X)) * np.dot(train_X.T, errors)\n",
        "    bias_gradient = (2 / len(train_X)) * np.sum(errors)\n",
        "\n",
        "    # Update weights and bias\n",
        "    weights -= learning_rate * weight_gradients\n",
        "    bias -= learning_rate * bias_gradient\n",
        "\n",
        "    # Calculate Mean Squared Error (MSE)\n",
        "    mse = np.mean(errors ** 2)\n",
        "    if epoch % 100 == 0:\n",
        "        print(f\"Epoch {epoch}, MSE: {mse:.5f}\")\n",
        "\n",
        "# Compute MSE on test data\n",
        "test_predictions = np.dot(test_X, weights) + bias\n",
        "test_mse = np.mean((test_predictions - test_y) ** 2)\n",
        "print(f\"Final Training MSE: {mse:.5f}\")\n",
        "print(f\"Test MSE: {test_mse:.5f}\")\n",
        "\n",
        "# User input prediction\n",
        "x1, x2, x3 = map(float, input(\"Enter x1, x2, x3: \").split())\n",
        "user_input = np.array([x1, x2, x3])\n",
        "user_prediction = np.dot(user_input, weights) + bias\n",
        "print(f\"Predicted output: {user_prediction:.5f}\")"
      ],
      "metadata": {
        "colab": {
          "base_uri": "https://localhost:8080/"
        },
        "id": "wko_-fT-4to_",
        "outputId": "380f100d-dc03-4e0e-d7b3-2d7172d8f461"
      },
      "execution_count": 1,
      "outputs": [
        {
          "output_type": "stream",
          "name": "stdout",
          "text": [
            "Epoch 0, MSE: 1.58955\n",
            "Epoch 100, MSE: 0.00304\n",
            "Epoch 200, MSE: 0.00021\n",
            "Epoch 300, MSE: 0.00018\n",
            "Epoch 400, MSE: 0.00015\n",
            "Epoch 500, MSE: 0.00013\n",
            "Epoch 600, MSE: 0.00012\n",
            "Epoch 700, MSE: 0.00010\n",
            "Epoch 800, MSE: 0.00009\n",
            "Epoch 900, MSE: 0.00008\n",
            "Final Training MSE: 0.00007\n",
            "Test MSE: 0.00009\n",
            "Enter x1, x2, x3: 1 2 3\n",
            "Predicted output: 1.32677\n"
          ]
        }
      ]
    },
    {
      "cell_type": "markdown",
      "source": [
        "#Question 2\n"
      ],
      "metadata": {
        "id": "4GP7Dk_p5efA"
      }
    },
    {
      "cell_type": "code",
      "source": [
        "\n",
        "import numpy as np\n",
        "\n",
        "def sigmoid(x):\n",
        "    return 1 / (1 + np.exp(-x))\n",
        "\n",
        "def sigmoid_derivative(x):\n",
        "    return x * (1 - x)\n",
        "\n",
        "train_X = np.array([\n",
        "    [0.1, 0.2, 0.3],\n",
        "    [0.2, 0.3, 0.4],\n",
        "    [0.3, 0.4, 0.5],\n",
        "    [0.5, 0.6, 0.7],\n",
        "    [0.1, 0.3, 0.5],\n",
        "    [0.2, 0.4, 0.6],\n",
        "    [0.3, 0.5, 0.7],\n",
        "    [0.4, 0.6, 0.8],\n",
        "    [0.5, 0.7, 0.1]\n",
        "])\n",
        "train_y = np.array([0.5349, 0.5498, 0.5646, 0.5939, 0.5548, 0.5695, 0.5842, 0.5987, 0.5548])\n",
        "\n",
        "test_X = np.array([\n",
        "    [0.6, 0.7, 0.8],\n",
        "    [0.7, 0.8, 0.9]\n",
        "])\n",
        "test_y = np.array([0.6083, 0.6225])\n",
        "\n",
        "weights = np.random.rand(3)\n",
        "bias = np.random.rand()\n",
        "\n",
        "learning_rate = 0.01\n",
        "epochs = 1000\n",
        "\n",
        "for epoch in range(epochs):\n",
        "    linear_output = np.dot(train_X, weights) + bias\n",
        "    predictions = sigmoid(linear_output)\n",
        "    errors = predictions - train_y\n",
        "\n",
        "    d_predictions = errors * sigmoid_derivative(predictions)\n",
        "    weight_gradients = (2 / len(train_X)) * np.dot(train_X.T, d_predictions)\n",
        "    bias_gradient = (2 / len(train_X)) * np.sum(d_predictions)\n",
        "\n",
        "    weights -= learning_rate * weight_gradients\n",
        "    bias -= learning_rate * bias_gradient\n",
        "\n",
        "    mse = np.mean(errors ** 2)\n",
        "    if epoch % 100 == 0:\n",
        "        print(f\"Epoch {epoch}, MSE: {mse:.5f}\")\n",
        "\n",
        "test_predictions = sigmoid(np.dot(test_X, weights) + bias)\n",
        "test_mse = np.mean((test_predictions - test_y) ** 2)\n",
        "print(f\"Final Training MSE: {mse:.5f}\")\n",
        "print(f\"Test MSE: {test_mse:.5f}\")\n",
        "\n",
        "x1, x2, x3 = map(float, input(\"Enter x1, x2, x3: \").split())\n",
        "user_input = np.array([x1, x2, x3])\n",
        "user_prediction = sigmoid(np.dot(user_input, weights) + bias)\n",
        "print(f\"Predicted output: {user_prediction:.5f}\")"
      ],
      "metadata": {
        "colab": {
          "base_uri": "https://localhost:8080/"
        },
        "id": "ynnen3vT5Vwf",
        "outputId": "28ab51c0-c0a3-40f1-de55-f15fac6eb94f"
      },
      "execution_count": 2,
      "outputs": [
        {
          "output_type": "stream",
          "name": "stdout",
          "text": [
            "Epoch 0, MSE: 0.03535\n",
            "Epoch 100, MSE: 0.02848\n",
            "Epoch 200, MSE: 0.02245\n",
            "Epoch 300, MSE: 0.01734\n",
            "Epoch 400, MSE: 0.01314\n",
            "Epoch 500, MSE: 0.00979\n",
            "Epoch 600, MSE: 0.00720\n",
            "Epoch 700, MSE: 0.00523\n",
            "Epoch 800, MSE: 0.00377\n",
            "Epoch 900, MSE: 0.00269\n",
            "Final Training MSE: 0.00192\n",
            "Test MSE: 0.00367\n",
            "Enter x1, x2, x3: 1 2 3\n",
            "Predicted output: 0.81679\n"
          ]
        }
      ]
    }
  ]
}
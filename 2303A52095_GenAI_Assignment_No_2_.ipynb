{
  "nbformat": 4,
  "nbformat_minor": 0,
  "metadata": {
    "colab": {
      "provenance": [],
      "authorship_tag": "ABX9TyNDf1qiWCm0+jKsNf+QAvo0",
      "include_colab_link": true
    },
    "kernelspec": {
      "name": "python3",
      "display_name": "Python 3"
    },
    "language_info": {
      "name": "python"
    }
  },
  "cells": [
    {
      "cell_type": "markdown",
      "metadata": {
        "id": "view-in-github",
        "colab_type": "text"
      },
      "source": [
        "<a href=\"https://colab.research.google.com/github/2303A52095/GenerativeAI_2025/blob/main/2303A52095_GenAI_Assignment_No_2_.ipynb\" target=\"_parent\"><img src=\"https://colab.research.google.com/assets/colab-badge.svg\" alt=\"Open In Colab\"/></a>"
      ]
    },
    {
      "cell_type": "markdown",
      "source": [
        "1.Develop mathematical modeling for the given case study and find solution using Python.\n",
        "\n",
        "Consider a chocolate manufacturing company that produces only two types of chocolate i.e. A and B. Both the chocolates require Milk and Choco only. To manufacture each unit of A and B, the following quantities required: Each unit of A requires 1 unit of Milk and 3 units of Choco Each unit of B requires 1 unit of Milk and 2 units of Choco The company kitchen has a total of 5 units of Milk and 12 units of Choco. On each sale, the company makes a profit of Rs 6 per unit A sold and Rs 5 per unit B sold. Now, the company wishes to maximize its profit. How many units of A and B should it produce respectively?"
      ],
      "metadata": {
        "id": "tVaAUFwYo4Yn"
      }
    },
    {
      "cell_type": "code",
      "execution_count": 1,
      "metadata": {
        "id": "W9w9pH6OgUqQ"
      },
      "outputs": [],
      "source": [
        "import numpy as np\n",
        "from scipy.optimize import linprog"
      ]
    },
    {
      "cell_type": "code",
      "source": [
        "c = [-6, -5]\n",
        "A = [[1, 1], [3, 2]]\n",
        "b = [5, 12]"
      ],
      "metadata": {
        "id": "TeObY74Knduu"
      },
      "execution_count": 2,
      "outputs": []
    },
    {
      "cell_type": "code",
      "source": [
        "x0_bounds = (0, None)\n",
        "x1_bounds = (0, None)"
      ],
      "metadata": {
        "id": "T21uv6r2nkYD"
      },
      "execution_count": 3,
      "outputs": []
    },
    {
      "cell_type": "code",
      "source": [
        "result = linprog(c, A_ub=A, b_ub=b, bounds=[x0_bounds, x1_bounds], method='highs')"
      ],
      "metadata": {
        "id": "6B5HfH1Znodv"
      },
      "execution_count": 4,
      "outputs": []
    },
    {
      "cell_type": "code",
      "source": [
        "print(\"Status:\", result.message)\n",
        "print(\"Optimal Solution:\")\n",
        "print(\"No of A type chocolete:\", result.x[0])\n",
        "print(\"No of B type chocolete:\", result.x[1])\n",
        "print(\"Maximum Profit:\", -result.fun)"
      ],
      "metadata": {
        "colab": {
          "base_uri": "https://localhost:8080/"
        },
        "id": "ArWP5SS4nsUl",
        "outputId": "947d20c7-c35f-4268-8dff-2824951f961d"
      },
      "execution_count": 5,
      "outputs": [
        {
          "output_type": "stream",
          "name": "stdout",
          "text": [
            "Status: Optimization terminated successfully. (HiGHS Status 7: Optimal)\n",
            "Optimal Solution:\n",
            "No of A type chocolete: 2.0\n",
            "No of B type chocolete: 3.0\n",
            "Maximum Profit: 27.0\n"
          ]
        }
      ]
    },
    {
      "cell_type": "markdown",
      "source": [
        "2.Develop mathematical modeling for the given case study and find solution using\n",
        "Python\n",
        "\n",
        "\n",
        "A farmer has recently acquired a 110 hectares piece of land. He has decided to grow Wheat and barley on that land. Due to the quality of the sun and the region's excellent climate, the entire production of Wheat and Barley can be sold. He wants to know how to plant each variety in the 110 hectares, given the costs, net profits and labor requirements according to the data shown below:\n",
        "Onana Veeramsett tty)\n",
        "gr.research@gmail.com\n",
        "Crop\n",
        "Cost (Rs/Hec)\n",
        "Profit (Price/Hec)\n",
        "Man-days/Hec\n",
        "Wheat\n",
        "7000\n",
        "50\n",
        "10\n",
        "Barley\n",
        "2000\n",
        "120\n",
        "30\n",
        "The farmer has a budget of Rs. 7,00,000 and availability of 1,200 man-days during the planning horizon. Find the optimal solution and the optimal value."
      ],
      "metadata": {
        "id": "Ctx4j3KZoAxn"
      }
    },
    {
      "cell_type": "code",
      "source": [
        "from scipy.optimize import linprog"
      ],
      "metadata": {
        "id": "b0luBuYxojBC"
      },
      "execution_count": 9,
      "outputs": []
    },
    {
      "cell_type": "code",
      "source": [
        "c = [-50, -120]\n",
        "A=[[1,1],[7000,2000],[10,30]]\n",
        "b=[110,700000,1200]"
      ],
      "metadata": {
        "id": "srhbEtctokiH"
      },
      "execution_count": 10,
      "outputs": []
    },
    {
      "cell_type": "code",
      "source": [
        "x_bounds = (0, None)\n",
        "y_bounds = (0, None)"
      ],
      "metadata": {
        "id": "iskU6_7oon5v"
      },
      "execution_count": 11,
      "outputs": []
    },
    {
      "cell_type": "code",
      "source": [
        "result = linprog(c, A_ub=A, b_ub=b, bounds=[x_bounds, y_bounds], method='highs')"
      ],
      "metadata": {
        "id": "E1kPin_foITM"
      },
      "execution_count": 13,
      "outputs": []
    },
    {
      "cell_type": "code",
      "source": [
        "print(\"Status:\", result.message)\n",
        "print(\"Optimal Solution:\")\n",
        "print(\"Hectares of Wheat:\", result.x[0])\n",
        "print(\"Hectares of Barley:\", result.x[1])\n",
        "print(\"Maximum Profit:\", -result.fun)"
      ],
      "metadata": {
        "colab": {
          "base_uri": "https://localhost:8080/"
        },
        "id": "Kdgy4Lk5oSlV",
        "outputId": "46da0116-1755-46a6-cd99-44d585f56349"
      },
      "execution_count": 14,
      "outputs": [
        {
          "output_type": "stream",
          "name": "stdout",
          "text": [
            "Status: Optimization terminated successfully. (HiGHS Status 7: Optimal)\n",
            "Optimal Solution:\n",
            "Hectares of Wheat: 97.89473684210526\n",
            "Hectares of Barley: 7.368421052631579\n",
            "Maximum Profit: 5778.9473684210525\n"
          ]
        }
      ]
    }
  ]
}